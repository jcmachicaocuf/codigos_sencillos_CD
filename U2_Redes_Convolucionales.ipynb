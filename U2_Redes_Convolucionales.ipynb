{
  "nbformat": 4,
  "nbformat_minor": 0,
  "metadata": {
    "colab": {
      "provenance": [],
      "authorship_tag": "ABX9TyMrEIIk/ZwwhR3P4aKVx7jv",
      "include_colab_link": true
    },
    "kernelspec": {
      "name": "python3",
      "display_name": "Python 3"
    },
    "language_info": {
      "name": "python"
    }
  },
  "cells": [
    {
      "cell_type": "markdown",
      "metadata": {
        "id": "view-in-github",
        "colab_type": "text"
      },
      "source": [
        "<a href=\"https://colab.research.google.com/github/jcmachicaocuf/codigos_sencillos_CD/blob/main/U2_Redes_Convolucionales.ipynb\" target=\"_parent\"><img src=\"https://colab.research.google.com/assets/colab-badge.svg\" alt=\"Open In Colab\"/></a>"
      ]
    },
    {
      "cell_type": "code",
      "source": [
        "import torch\n",
        "import torch.nn as nn\n",
        "import torch.optim as optim\n",
        "from torchvision import datasets, transforms\n",
        "from torch.utils.data import DataLoader"
      ],
      "metadata": {
        "id": "aU2hoeSsz8_n"
      },
      "execution_count": null,
      "outputs": []
    },
    {
      "cell_type": "code",
      "source": [
        "# Definir la arquitectura de la CNN\n",
        "class SimpleCNN(nn.Module):\n",
        "    def __init__(self):\n",
        "        super(SimpleCNN, self).__init__()\n",
        "        self.conv1 = nn.Conv2d(1, 32, 3, 1)  # Capa convolucional 2D con 1 canal de entrada, 32 canales de salida, tamaño del kernel 3x3 y stride 1\n",
        "        self.conv2 = nn.Conv2d(32, 64, 3, 1)  # Capa convolucional 2D con 32 canales de entrada, 64 canales de salida, tamaño del kernel 3x3 y stride 1\n",
        "        self.fc1 = nn.Linear(12*12*64, 128)  # Capa lineal con 12*12*64 unidades de entrada y 128 unidades de salida\n",
        "        self.fc2 = nn.Linear(128, 10)  # Capa lineal con 128 unidades de entrada y 10 unidades de salida (número de clases)\n",
        "\n",
        "    def forward(self, x):\n",
        "        x = torch.relu(self.conv1(x))  # Aplicar la función de activación ReLU después de la primera capa convolucional\n",
        "        x = torch.max_pool2d(x, 2, 2)  # Aplicar max pooling con una ventana de 2x2 y stride 2\n",
        "        x = torch.relu(self.conv2(x))  # Aplicar la función de activación ReLU después de la segunda capa convolucional\n",
        "        x = torch.max_pool2d(x, 2, 2)  # Aplicar max pooling con una ventana de 2x2 y stride 2\n",
        "        x = x.view(-1, 12*12*64)  # Aplanar la salida de las capas convolucionales antes de pasarla a las capas lineales\n",
        "        x = torch.relu(self.fc1(x))  # Aplicar la función de activación ReLU después de la primera capa lineal\n",
        "        x = self.fc2(x)  # No aplicamos una función de activación al final para la clasificación\n",
        "        return x"
      ],
      "metadata": {
        "id": "3e-vsEq0z886"
      },
      "execution_count": null,
      "outputs": []
    },
    {
      "cell_type": "code",
      "source": [
        "# Configuración de los parámetros\n",
        "batch_size = 64\n",
        "learning_rate = 0.001\n",
        "num_epochs = 10\n",
        "\n",
        "# Transformaciones de datos para preprocesamiento\n",
        "transform = transforms.Compose([\n",
        "    transforms.ToTensor(),  # Convertir las imágenes PIL a tensores\n",
        "    transforms.Normalize((0.5,), (0.5,))  # Normalizar los valores de píxeles de las imágenes\n",
        "])\n",
        "\n",
        "# Descargar y cargar el conjunto de datos MNIST\n",
        "train_dataset = datasets.MNIST(root='./data', train=True, transform=transform, download=True)\n",
        "test_dataset = datasets.MNIST(root='./data', train=False, transform=transform)\n",
        "\n",
        "train_loader = DataLoader(train_dataset, batch_size=batch_size, shuffle=True)\n",
        "test_loader = DataLoader(test_dataset, batch_size=batch_size, shuffle=False)\n",
        "\n",
        "# Inicializar la CNN\n",
        "model = SimpleCNN()\n",
        "\n",
        "# Definir la función de pérdida y el optimizador\n",
        "criterion = nn.CrossEntropyLoss()\n",
        "optimizer = optim.Adam(model.parameters(), lr=learning_rate)"
      ],
      "metadata": {
        "id": "AYX6bwEDz84u"
      },
      "execution_count": null,
      "outputs": []
    },
    {
      "cell_type": "code",
      "source": [
        "# Entrenamiento de la CNN\n",
        "for epoch in range(num_epochs):\n",
        "    model.train()  # Modo de entrenamiento\n",
        "    running_loss = 0.0\n",
        "    for i, (inputs, labels) in enumerate(train_loader):\n",
        "        # Forward pass\n",
        "        outputs = model(inputs)\n",
        "        loss = criterion(outputs, labels)\n",
        "\n",
        "        # Backward pass and optimization\n",
        "        optimizer.zero_grad()\n",
        "        loss.backward()\n",
        "        optimizer.step()\n",
        "\n",
        "        running_loss += loss.item()\n",
        "\n",
        "        # Imprimir estadísticas\n",
        "        if (i+1) % 100 == 0:\n",
        "            print(f'Epoch [{epoch+1}/{num_epochs}], Step [{i+1}/{len(train_loader)}], Loss: {running_loss/100}')\n",
        "            running_loss = 0.0"
      ],
      "metadata": {
        "id": "MaY3Mrtwz82G"
      },
      "execution_count": null,
      "outputs": []
    },
    {
      "cell_type": "code",
      "source": [
        "# Evaluación de la CNN en el conjunto de datos de prueba\n",
        "model.eval()  # Modo de evaluación\n",
        "correct = 0\n",
        "total = 0\n",
        "with torch.no_grad():\n",
        "    for inputs, labels in test_loader:\n",
        "        outputs = model(inputs)\n",
        "        _, predicted = torch.max(outputs.data, 1)\n",
        "        total += labels.size(0)\n",
        "        correct += (predicted == labels).sum().item()\n",
        "\n",
        "print(f'Accuracy on test set: {100 * correct / total}%')\n"
      ],
      "metadata": {
        "id": "lqUQTi0zz8zr"
      },
      "execution_count": null,
      "outputs": []
    },
    {
      "cell_type": "code",
      "execution_count": null,
      "metadata": {
        "id": "hmzp5vUsz7FQ"
      },
      "outputs": [],
      "source": [
        "\n",
        "\n",
        "\n"
      ]
    }
  ]
}